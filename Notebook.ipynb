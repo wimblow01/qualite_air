{
 "cells": [
  {
   "cell_type": "markdown",
   "id": "straight-puppy",
   "metadata": {},
   "source": [
    "# Qualité de l'air"
   ]
  },
  {
   "cell_type": "markdown",
   "id": "brilliant-hamilton",
   "metadata": {},
   "source": [
    "L'ojectif de ce brief est d'évaluer l'impact qu'a eu le confinement sur la qualité de l'air en Bretagne.\n",
    "\n",
    "Pour ce faire, nous avons utilisé les données du site [air Breizh](https://data.airbreizh.asso.fr/contenu/services_didon.html)"
   ]
  },
  {
   "cell_type": "markdown",
   "id": "municipal-tomorrow",
   "metadata": {},
   "source": [
    "## Traitement des données"
   ]
  },
  {
   "cell_type": "markdown",
   "id": "blank-australian",
   "metadata": {},
   "source": [
    "Pour mes graph, j'ai fait le choix de garger les données de :\n",
    "* coordonnées géométriques\n",
    "* dates de prélèvement\n",
    "* valeur de la qualité\n",
    "* le qualificatif de la qualité (qui correspond à la valeur)\n",
    "* la zone concernée\n",
    "\n",
    "J'ai ensuite réduit les données des dates pour ne concerver que les jour/mois/année. Enfin je l'ai transformé en Json et je l'ai enregistré afin de pouvoir l'intégrer dans MongoDB Atlas pour y faire les graph."
   ]
  },
  {
   "cell_type": "markdown",
   "id": "designing-slovak",
   "metadata": {},
   "source": [
    "## Interprétation des résultats"
   ]
  },
  {
   "cell_type": "markdown",
   "id": "organized-emergency",
   "metadata": {},
   "source": [
    "L'année 2020 aura eu 2 prériodes de confinement :\n",
    "* 17 mars au 15 mai\n",
    "* 30 octobre au 15 décembre"
   ]
  },
  {
   "cell_type": "markdown",
   "id": "legal-winning",
   "metadata": {},
   "source": [
    "![image1](image/image1.PNG)"
   ]
  },
  {
   "cell_type": "markdown",
   "id": "frequent-lucas",
   "metadata": {},
   "source": [
    "On peut voir sur ce graph qui représente le niveau moyen de la qualité de l'air par mois pour la région Bretagne qu'il y a 1 pic bien marqué et 2 autres moins élevés.\n",
    "\n",
    "Le premier pic a lieu entre février et juin/juillet qui correspond à la première période de confinement et les deux autres en septembre et novembre."
   ]
  },
  {
   "cell_type": "markdown",
   "id": "worse-decline",
   "metadata": {},
   "source": [
    "![image2](image/image2.PNG)"
   ]
  },
  {
   "cell_type": "markdown",
   "id": "unlimited-flood",
   "metadata": {},
   "source": [
    "Ce deuxième graph renseigne la vakeur moyenne de la qualité de l'air par mois pour les 7 zones de prélèvement pour la région Bretagne. Comme pour le premier graph, on observe des pics en avril, septembre et novembre. Dans ce dernier on peut observer une tendance commune à toutes les zones, il n'y a pas de valeur qui sort de la norme. "
   ]
  },
  {
   "cell_type": "markdown",
   "id": "positive-cabinet",
   "metadata": {},
   "source": [
    "## Conclusion\n"
   ]
  },
  {
   "cell_type": "markdown",
   "id": "collect-bidding",
   "metadata": {},
   "source": [
    "A la vue des résultats, on peu constater que le confinement a eu un impact négatif sur la qualité de l'air et ce de manière homogène entre toutes les zones. \n",
    "\n",
    "On pourrait penser que du fait qu'il y ait moins de voitures sur la route la qualité de l'air serait meilleure. C'est effectivement le cas par raaports aux émissions de voitures, néanmoins du rant cette période les gens ne pouvant pas sortir de chez eux et les températures étant encore basses, les foyers chauffaient plus et sur de plus longues durées. De même cette période correspond à une période d'épandage pour les exploitations agricoles. Ces deux facteurs compensent la diminution de la circulation routière voire même dépassent ses émissions."
   ]
  }
 ],
 "metadata": {
  "kernelspec": {
   "display_name": "Python 3",
   "language": "python",
   "name": "python3"
  },
  "language_info": {
   "codemirror_mode": {
    "name": "ipython",
    "version": 3
   },
   "file_extension": ".py",
   "mimetype": "text/x-python",
   "name": "python",
   "nbconvert_exporter": "python",
   "pygments_lexer": "ipython3",
   "version": "3.8.5"
  }
 },
 "nbformat": 4,
 "nbformat_minor": 5
}
