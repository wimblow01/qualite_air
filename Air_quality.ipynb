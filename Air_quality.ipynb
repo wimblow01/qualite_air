{
 "cells": [
  {
   "cell_type": "code",
   "execution_count": 1,
   "metadata": {},
   "outputs": [],
   "source": [
    "import requests\n",
    "import numpy as np\n",
    "import pandas as pd\n",
    "from sklearn.preprocessing import LabelEncoder"
   ]
  },
  {
   "cell_type": "markdown",
   "metadata": {},
   "source": [
    "### Importation du json"
   ]
  },
  {
   "cell_type": "code",
   "execution_count": 2,
   "metadata": {},
   "outputs": [],
   "source": [
    "data = requests.get(\"https://data.airbreizh.asso.fr/geoserver/ind_bretagne_agglo/ows?service=WFS&version=1.0.0&request=GetFeature&typeName=ind_bretagne_agglo:ind_bretagne_agglo&outputFormat=application%2Fjson\").json()"
   ]
  },
  {
   "cell_type": "markdown",
   "metadata": {},
   "source": [
    "###  Passage du .json en dataframe"
   ]
  },
  {
   "cell_type": "code",
   "execution_count": 3,
   "metadata": {},
   "outputs": [],
   "source": [
    "df = pd.json_normalize(data, record_path = 'features')"
   ]
  },
  {
   "cell_type": "code",
   "execution_count": 4,
   "metadata": {},
   "outputs": [
    {
     "name": "stdout",
     "output_type": "stream",
     "text": [
      "<class 'pandas.core.frame.DataFrame'>\n",
      "RangeIndex: 2547 entries, 0 to 2546\n",
      "Data columns (total 18 columns):\n",
      " #   Column                Non-Null Count  Dtype \n",
      "---  ------                --------------  ----- \n",
      " 0   type                  2547 non-null   object\n",
      " 1   id                    2547 non-null   object\n",
      " 2   geometry_name         2547 non-null   object\n",
      " 3   geometry.type         2547 non-null   object\n",
      " 4   geometry.coordinates  2547 non-null   object\n",
      " 5   properties.date_ech   2547 non-null   object\n",
      " 6   properties.valeur     2547 non-null   int64 \n",
      " 7   properties.qualif     2547 non-null   object\n",
      " 8   properties.source     2547 non-null   object\n",
      " 9   properties.type_zone  2547 non-null   object\n",
      " 10  properties.code_zone  2547 non-null   object\n",
      " 11  properties.lib_zone   2547 non-null   object\n",
      " 12  properties.val_no2    2547 non-null   int64 \n",
      " 13  properties.val_so2    2547 non-null   int64 \n",
      " 14  properties.val_o3     2547 non-null   int64 \n",
      " 15  properties.val_pm10   2547 non-null   int64 \n",
      " 16  properties.val_pm25   2547 non-null   int64 \n",
      " 17  properties.couleur    2547 non-null   object\n",
      "dtypes: int64(6), object(12)\n",
      "memory usage: 358.3+ KB\n"
     ]
    }
   ],
   "source": [
    "df.info()"
   ]
  },
  {
   "cell_type": "code",
   "execution_count": 5,
   "metadata": {},
   "outputs": [
    {
     "data": {
      "text/plain": [
       "array(['CA Saint-Brieuc Armor', 'CA Golfe du Morbihan - Vannes',\n",
       "       'CA Quimper Bretagne Occidentale', 'Rennes Métropole',\n",
       "       'CA du Pays de Saint-Malo (Saint-Malo Agglomération)',\n",
       "       'Brest Métropole', 'CA Lorient'], dtype=object)"
      ]
     },
     "execution_count": 5,
     "metadata": {},
     "output_type": "execute_result"
    }
   ],
   "source": [
    "df['properties.lib_zone'].unique()"
   ]
  },
  {
   "cell_type": "markdown",
   "metadata": {},
   "source": [
    "### création d'une database avec les valeurs \"utiles\" "
   ]
  },
  {
   "cell_type": "code",
   "execution_count": 6,
   "metadata": {},
   "outputs": [],
   "source": [
    "data = df[['geometry.coordinates', 'properties.date_ech', 'properties.valeur','properties.qualif', 'properties.lib_zone']]"
   ]
  },
  {
   "cell_type": "code",
   "execution_count": 7,
   "metadata": {
    "scrolled": true
   },
   "outputs": [
    {
     "data": {
      "text/html": [
       "<div>\n",
       "<style scoped>\n",
       "    .dataframe tbody tr th:only-of-type {\n",
       "        vertical-align: middle;\n",
       "    }\n",
       "\n",
       "    .dataframe tbody tr th {\n",
       "        vertical-align: top;\n",
       "    }\n",
       "\n",
       "    .dataframe thead th {\n",
       "        text-align: right;\n",
       "    }\n",
       "</style>\n",
       "<table border=\"1\" class=\"dataframe\">\n",
       "  <thead>\n",
       "    <tr style=\"text-align: right;\">\n",
       "      <th></th>\n",
       "      <th>geometry.coordinates</th>\n",
       "      <th>properties.date_ech</th>\n",
       "      <th>properties.valeur</th>\n",
       "      <th>properties.qualif</th>\n",
       "      <th>properties.lib_zone</th>\n",
       "    </tr>\n",
       "  </thead>\n",
       "  <tbody>\n",
       "    <tr>\n",
       "      <th>0</th>\n",
       "      <td>[269153.26829935, 6832824.93414115]</td>\n",
       "      <td>2021-01-01T09:00:00Z</td>\n",
       "      <td>3</td>\n",
       "      <td>Bon</td>\n",
       "      <td>CA Saint-Brieuc Armor</td>\n",
       "    </tr>\n",
       "    <tr>\n",
       "      <th>1</th>\n",
       "      <td>[269961.11069397, 6746307.89925287]</td>\n",
       "      <td>2021-01-01T09:00:00Z</td>\n",
       "      <td>3</td>\n",
       "      <td>Bon</td>\n",
       "      <td>CA Golfe du Morbihan - Vannes</td>\n",
       "    </tr>\n",
       "    <tr>\n",
       "      <th>2</th>\n",
       "      <td>[172753.63056731, 6795400.54381628]</td>\n",
       "      <td>2021-01-01T09:00:00Z</td>\n",
       "      <td>3</td>\n",
       "      <td>Bon</td>\n",
       "      <td>CA Quimper Bretagne Occidentale</td>\n",
       "    </tr>\n",
       "    <tr>\n",
       "      <th>3</th>\n",
       "      <td>[349555.00704537, 6789093.38652832]</td>\n",
       "      <td>2021-01-01T09:00:00Z</td>\n",
       "      <td>3</td>\n",
       "      <td>Bon</td>\n",
       "      <td>Rennes Métropole</td>\n",
       "    </tr>\n",
       "    <tr>\n",
       "      <th>4</th>\n",
       "      <td>[338719.75810268, 6844013.78819969]</td>\n",
       "      <td>2021-01-01T09:00:00Z</td>\n",
       "      <td>3</td>\n",
       "      <td>Bon</td>\n",
       "      <td>CA du Pays de Saint-Malo (Saint-Malo Aggloméra...</td>\n",
       "    </tr>\n",
       "    <tr>\n",
       "      <th>...</th>\n",
       "      <td>...</td>\n",
       "      <td>...</td>\n",
       "      <td>...</td>\n",
       "      <td>...</td>\n",
       "      <td>...</td>\n",
       "    </tr>\n",
       "    <tr>\n",
       "      <th>2542</th>\n",
       "      <td>[269153.26829935, 6832824.93414115]</td>\n",
       "      <td>2020-01-01T09:00:00Z</td>\n",
       "      <td>3</td>\n",
       "      <td>Bon</td>\n",
       "      <td>CA Saint-Brieuc Armor</td>\n",
       "    </tr>\n",
       "    <tr>\n",
       "      <th>2543</th>\n",
       "      <td>[172753.63056731, 6795400.54381628]</td>\n",
       "      <td>2020-01-01T09:00:00Z</td>\n",
       "      <td>3</td>\n",
       "      <td>Bon</td>\n",
       "      <td>CA Quimper Bretagne Occidentale</td>\n",
       "    </tr>\n",
       "    <tr>\n",
       "      <th>2544</th>\n",
       "      <td>[229772.04043578, 6768639.92668385]</td>\n",
       "      <td>2020-01-01T09:00:00Z</td>\n",
       "      <td>3</td>\n",
       "      <td>Bon</td>\n",
       "      <td>CA Lorient</td>\n",
       "    </tr>\n",
       "    <tr>\n",
       "      <th>2545</th>\n",
       "      <td>[338719.75810268, 6844013.78819969]</td>\n",
       "      <td>2020-01-01T09:00:00Z</td>\n",
       "      <td>3</td>\n",
       "      <td>Bon</td>\n",
       "      <td>CA du Pays de Saint-Malo (Saint-Malo Aggloméra...</td>\n",
       "    </tr>\n",
       "    <tr>\n",
       "      <th>2546</th>\n",
       "      <td>[147878.22420659, 6837175.79403704]</td>\n",
       "      <td>2020-01-01T09:00:00Z</td>\n",
       "      <td>3</td>\n",
       "      <td>Bon</td>\n",
       "      <td>Brest Métropole</td>\n",
       "    </tr>\n",
       "  </tbody>\n",
       "</table>\n",
       "<p>2547 rows × 5 columns</p>\n",
       "</div>"
      ],
      "text/plain": [
       "                     geometry.coordinates   properties.date_ech  \\\n",
       "0     [269153.26829935, 6832824.93414115]  2021-01-01T09:00:00Z   \n",
       "1     [269961.11069397, 6746307.89925287]  2021-01-01T09:00:00Z   \n",
       "2     [172753.63056731, 6795400.54381628]  2021-01-01T09:00:00Z   \n",
       "3     [349555.00704537, 6789093.38652832]  2021-01-01T09:00:00Z   \n",
       "4     [338719.75810268, 6844013.78819969]  2021-01-01T09:00:00Z   \n",
       "...                                   ...                   ...   \n",
       "2542  [269153.26829935, 6832824.93414115]  2020-01-01T09:00:00Z   \n",
       "2543  [172753.63056731, 6795400.54381628]  2020-01-01T09:00:00Z   \n",
       "2544  [229772.04043578, 6768639.92668385]  2020-01-01T09:00:00Z   \n",
       "2545  [338719.75810268, 6844013.78819969]  2020-01-01T09:00:00Z   \n",
       "2546  [147878.22420659, 6837175.79403704]  2020-01-01T09:00:00Z   \n",
       "\n",
       "      properties.valeur properties.qualif  \\\n",
       "0                     3               Bon   \n",
       "1                     3               Bon   \n",
       "2                     3               Bon   \n",
       "3                     3               Bon   \n",
       "4                     3               Bon   \n",
       "...                 ...               ...   \n",
       "2542                  3               Bon   \n",
       "2543                  3               Bon   \n",
       "2544                  3               Bon   \n",
       "2545                  3               Bon   \n",
       "2546                  3               Bon   \n",
       "\n",
       "                                    properties.lib_zone  \n",
       "0                                 CA Saint-Brieuc Armor  \n",
       "1                         CA Golfe du Morbihan - Vannes  \n",
       "2                       CA Quimper Bretagne Occidentale  \n",
       "3                                      Rennes Métropole  \n",
       "4     CA du Pays de Saint-Malo (Saint-Malo Aggloméra...  \n",
       "...                                                 ...  \n",
       "2542                              CA Saint-Brieuc Armor  \n",
       "2543                    CA Quimper Bretagne Occidentale  \n",
       "2544                                         CA Lorient  \n",
       "2545  CA du Pays de Saint-Malo (Saint-Malo Aggloméra...  \n",
       "2546                                    Brest Métropole  \n",
       "\n",
       "[2547 rows x 5 columns]"
      ]
     },
     "execution_count": 7,
     "metadata": {},
     "output_type": "execute_result"
    }
   ],
   "source": [
    "data"
   ]
  },
  {
   "cell_type": "markdown",
   "metadata": {},
   "source": [
    "### Split des coordonnées en vue d'une cartographie"
   ]
  },
  {
   "cell_type": "code",
   "execution_count": 8,
   "metadata": {},
   "outputs": [
    {
     "name": "stderr",
     "output_type": "stream",
     "text": [
      "<ipython-input-8-39e3c755cde0>:1: SettingWithCopyWarning: \n",
      "A value is trying to be set on a copy of a slice from a DataFrame.\n",
      "Try using .loc[row_indexer,col_indexer] = value instead\n",
      "\n",
      "See the caveats in the documentation: https://pandas.pydata.org/pandas-docs/stable/user_guide/indexing.html#returning-a-view-versus-a-copy\n",
      "  data['longitude'] = data['geometry.coordinates'].apply(lambda x : x[0])\n",
      "<ipython-input-8-39e3c755cde0>:2: SettingWithCopyWarning: \n",
      "A value is trying to be set on a copy of a slice from a DataFrame.\n",
      "Try using .loc[row_indexer,col_indexer] = value instead\n",
      "\n",
      "See the caveats in the documentation: https://pandas.pydata.org/pandas-docs/stable/user_guide/indexing.html#returning-a-view-versus-a-copy\n",
      "  data['latitude'] = data['geometry.coordinates'].apply(lambda x : x[1])\n"
     ]
    }
   ],
   "source": [
    "data['longitude'] = data['geometry.coordinates'].apply(lambda x : x[0])    \n",
    "data['latitude'] = data['geometry.coordinates'].apply(lambda x : x[1])   "
   ]
  },
  {
   "cell_type": "code",
   "execution_count": 9,
   "metadata": {},
   "outputs": [],
   "source": [
    "data_coord = data[['properties.lib_zone', 'properties.valeur', 'longitude', 'latitude']]\n",
    "data_coord = data_coord.groupby(data_coord['properties.lib_zone']).mean()"
   ]
  },
  {
   "cell_type": "code",
   "execution_count": 10,
   "metadata": {},
   "outputs": [
    {
     "data": {
      "text/html": [
       "<div>\n",
       "<style scoped>\n",
       "    .dataframe tbody tr th:only-of-type {\n",
       "        vertical-align: middle;\n",
       "    }\n",
       "\n",
       "    .dataframe tbody tr th {\n",
       "        vertical-align: top;\n",
       "    }\n",
       "\n",
       "    .dataframe thead th {\n",
       "        text-align: right;\n",
       "    }\n",
       "</style>\n",
       "<table border=\"1\" class=\"dataframe\">\n",
       "  <thead>\n",
       "    <tr style=\"text-align: right;\">\n",
       "      <th></th>\n",
       "      <th>properties.valeur</th>\n",
       "      <th>longitude</th>\n",
       "      <th>latitude</th>\n",
       "    </tr>\n",
       "    <tr>\n",
       "      <th>properties.lib_zone</th>\n",
       "      <th></th>\n",
       "      <th></th>\n",
       "      <th></th>\n",
       "    </tr>\n",
       "  </thead>\n",
       "  <tbody>\n",
       "    <tr>\n",
       "      <th>Brest Métropole</th>\n",
       "      <td>3.819945</td>\n",
       "      <td>147878.224207</td>\n",
       "      <td>6.837176e+06</td>\n",
       "    </tr>\n",
       "    <tr>\n",
       "      <th>CA Golfe du Morbihan - Vannes</th>\n",
       "      <td>3.723288</td>\n",
       "      <td>269961.110694</td>\n",
       "      <td>6.746308e+06</td>\n",
       "    </tr>\n",
       "    <tr>\n",
       "      <th>CA Lorient</th>\n",
       "      <td>3.731507</td>\n",
       "      <td>229772.040436</td>\n",
       "      <td>6.768640e+06</td>\n",
       "    </tr>\n",
       "    <tr>\n",
       "      <th>CA Quimper Bretagne Occidentale</th>\n",
       "      <td>3.713115</td>\n",
       "      <td>172753.630567</td>\n",
       "      <td>6.795401e+06</td>\n",
       "    </tr>\n",
       "    <tr>\n",
       "      <th>CA Saint-Brieuc Armor</th>\n",
       "      <td>3.660274</td>\n",
       "      <td>269153.268299</td>\n",
       "      <td>6.832825e+06</td>\n",
       "    </tr>\n",
       "    <tr>\n",
       "      <th>CA du Pays de Saint-Malo (Saint-Malo Agglomération)</th>\n",
       "      <td>3.757576</td>\n",
       "      <td>338719.758103</td>\n",
       "      <td>6.844014e+06</td>\n",
       "    </tr>\n",
       "    <tr>\n",
       "      <th>Rennes Métropole</th>\n",
       "      <td>3.646409</td>\n",
       "      <td>349555.007045</td>\n",
       "      <td>6.789093e+06</td>\n",
       "    </tr>\n",
       "  </tbody>\n",
       "</table>\n",
       "</div>"
      ],
      "text/plain": [
       "                                                    properties.valeur  \\\n",
       "properties.lib_zone                                                     \n",
       "Brest Métropole                                              3.819945   \n",
       "CA Golfe du Morbihan - Vannes                                3.723288   \n",
       "CA Lorient                                                   3.731507   \n",
       "CA Quimper Bretagne Occidentale                              3.713115   \n",
       "CA Saint-Brieuc Armor                                        3.660274   \n",
       "CA du Pays de Saint-Malo (Saint-Malo Agglomérat...           3.757576   \n",
       "Rennes Métropole                                             3.646409   \n",
       "\n",
       "                                                        longitude  \\\n",
       "properties.lib_zone                                                 \n",
       "Brest Métropole                                     147878.224207   \n",
       "CA Golfe du Morbihan - Vannes                       269961.110694   \n",
       "CA Lorient                                          229772.040436   \n",
       "CA Quimper Bretagne Occidentale                     172753.630567   \n",
       "CA Saint-Brieuc Armor                               269153.268299   \n",
       "CA du Pays de Saint-Malo (Saint-Malo Agglomérat...  338719.758103   \n",
       "Rennes Métropole                                    349555.007045   \n",
       "\n",
       "                                                        latitude  \n",
       "properties.lib_zone                                               \n",
       "Brest Métropole                                     6.837176e+06  \n",
       "CA Golfe du Morbihan - Vannes                       6.746308e+06  \n",
       "CA Lorient                                          6.768640e+06  \n",
       "CA Quimper Bretagne Occidentale                     6.795401e+06  \n",
       "CA Saint-Brieuc Armor                               6.832825e+06  \n",
       "CA du Pays de Saint-Malo (Saint-Malo Agglomérat...  6.844014e+06  \n",
       "Rennes Métropole                                    6.789093e+06  "
      ]
     },
     "execution_count": 10,
     "metadata": {},
     "output_type": "execute_result"
    }
   ],
   "source": [
    "data_coord"
   ]
  },
  {
   "cell_type": "code",
   "execution_count": 11,
   "metadata": {},
   "outputs": [],
   "source": [
    "from pyproj import Proj, transform"
   ]
  },
  {
   "cell_type": "code",
   "execution_count": 12,
   "metadata": {},
   "outputs": [
    {
     "name": "stderr",
     "output_type": "stream",
     "text": [
      "C:\\Users\\utilisateur\\anaconda3\\lib\\site-packages\\pyproj\\crs\\crs.py:53: FutureWarning: '+init=<authority>:<code>' syntax is deprecated. '<authority>:<code>' is the preferred initialization method. When making the change, be mindful of axis order changes: https://pyproj4.github.io/pyproj/stable/gotchas.html#axis-order-changes-in-proj-6\n",
      "  return _prepare_from_string(\" \".join(pjargs))\n",
      "C:\\Users\\utilisateur\\anaconda3\\lib\\site-packages\\pyproj\\crs\\crs.py:294: FutureWarning: '+init=<authority>:<code>' syntax is deprecated. '<authority>:<code>' is the preferred initialization method. When making the change, be mindful of axis order changes: https://pyproj4.github.io/pyproj/stable/gotchas.html#axis-order-changes-in-proj-6\n",
      "  projstring = _prepare_from_string(\" \".join((projstring, projkwargs)))\n",
      "C:\\Users\\utilisateur\\anaconda3\\lib\\site-packages\\pyproj\\crs\\crs.py:53: FutureWarning: '+init=<authority>:<code>' syntax is deprecated. '<authority>:<code>' is the preferred initialization method. When making the change, be mindful of axis order changes: https://pyproj4.github.io/pyproj/stable/gotchas.html#axis-order-changes-in-proj-6\n",
      "  return _prepare_from_string(\" \".join(pjargs))\n",
      "C:\\Users\\utilisateur\\anaconda3\\lib\\site-packages\\pyproj\\crs\\crs.py:294: FutureWarning: '+init=<authority>:<code>' syntax is deprecated. '<authority>:<code>' is the preferred initialization method. When making the change, be mindful of axis order changes: https://pyproj4.github.io/pyproj/stable/gotchas.html#axis-order-changes-in-proj-6\n",
      "  projstring = _prepare_from_string(\" \".join((projstring, projkwargs)))\n"
     ]
    }
   ],
   "source": [
    "inProj = Proj(init='epsg:2154')\n",
    "outProj = Proj(init='epsg:4326')"
   ]
  },
  {
   "cell_type": "code",
   "execution_count": 13,
   "metadata": {},
   "outputs": [],
   "source": [
    "def gps(long, lat):\n",
    "    long,lat = transform(inProj,outProj,long,lat)\n",
    "    return long, lat"
   ]
  },
  {
   "cell_type": "code",
   "execution_count": 14,
   "metadata": {},
   "outputs": [
    {
     "name": "stderr",
     "output_type": "stream",
     "text": [
      "<ipython-input-13-a96484fa8f3e>:2: DeprecationWarning: This function is deprecated. See: https://pyproj4.github.io/pyproj/stable/gotchas.html#upgrading-to-pyproj-2-from-pyproj-1\n",
      "  long,lat = transform(inProj,outProj,long,lat)\n"
     ]
    }
   ],
   "source": [
    "data_coord['longitude_gps'] = data_coord.apply(lambda x : gps(x.longitude, x.latitude)[0], axis=1)\n",
    "data_coord['latitude_gps'] = data_coord.apply(lambda x : gps(x.longitude, x.latitude)[1], axis=1)"
   ]
  },
  {
   "cell_type": "code",
   "execution_count": 15,
   "metadata": {},
   "outputs": [
    {
     "data": {
      "text/html": [
       "<div>\n",
       "<style scoped>\n",
       "    .dataframe tbody tr th:only-of-type {\n",
       "        vertical-align: middle;\n",
       "    }\n",
       "\n",
       "    .dataframe tbody tr th {\n",
       "        vertical-align: top;\n",
       "    }\n",
       "\n",
       "    .dataframe thead th {\n",
       "        text-align: right;\n",
       "    }\n",
       "</style>\n",
       "<table border=\"1\" class=\"dataframe\">\n",
       "  <thead>\n",
       "    <tr style=\"text-align: right;\">\n",
       "      <th></th>\n",
       "      <th>properties.valeur</th>\n",
       "      <th>longitude</th>\n",
       "      <th>latitude</th>\n",
       "      <th>longitude_gps</th>\n",
       "      <th>latitude_gps</th>\n",
       "    </tr>\n",
       "    <tr>\n",
       "      <th>properties.lib_zone</th>\n",
       "      <th></th>\n",
       "      <th></th>\n",
       "      <th></th>\n",
       "      <th></th>\n",
       "      <th></th>\n",
       "    </tr>\n",
       "  </thead>\n",
       "  <tbody>\n",
       "    <tr>\n",
       "      <th>Brest Métropole</th>\n",
       "      <td>3.819945</td>\n",
       "      <td>147878.224207</td>\n",
       "      <td>6.837176e+06</td>\n",
       "      <td>-4.470520</td>\n",
       "      <td>48.399641</td>\n",
       "    </tr>\n",
       "    <tr>\n",
       "      <th>CA Golfe du Morbihan - Vannes</th>\n",
       "      <td>3.723288</td>\n",
       "      <td>269961.110694</td>\n",
       "      <td>6.746308e+06</td>\n",
       "      <td>-2.736238</td>\n",
       "      <td>47.676516</td>\n",
       "    </tr>\n",
       "    <tr>\n",
       "      <th>CA Lorient</th>\n",
       "      <td>3.731507</td>\n",
       "      <td>229772.040436</td>\n",
       "      <td>6.768640e+06</td>\n",
       "      <td>-3.293846</td>\n",
       "      <td>47.849403</td>\n",
       "    </tr>\n",
       "    <tr>\n",
       "      <th>CA Quimper Bretagne Occidentale</th>\n",
       "      <td>3.713115</td>\n",
       "      <td>172753.630567</td>\n",
       "      <td>6.795401e+06</td>\n",
       "      <td>-4.085219</td>\n",
       "      <td>48.045952</td>\n",
       "    </tr>\n",
       "    <tr>\n",
       "      <th>CA Saint-Brieuc Armor</th>\n",
       "      <td>3.660274</td>\n",
       "      <td>269153.268299</td>\n",
       "      <td>6.832825e+06</td>\n",
       "      <td>-2.832059</td>\n",
       "      <td>48.452434</td>\n",
       "    </tr>\n",
       "    <tr>\n",
       "      <th>CA du Pays de Saint-Malo (Saint-Malo Agglomération)</th>\n",
       "      <td>3.757576</td>\n",
       "      <td>338719.758103</td>\n",
       "      <td>6.844014e+06</td>\n",
       "      <td>-1.902423</td>\n",
       "      <td>48.595360</td>\n",
       "    </tr>\n",
       "    <tr>\n",
       "      <th>Rennes Métropole</th>\n",
       "      <td>3.646409</td>\n",
       "      <td>349555.007045</td>\n",
       "      <td>6.789093e+06</td>\n",
       "      <td>-1.711339</td>\n",
       "      <td>48.108092</td>\n",
       "    </tr>\n",
       "  </tbody>\n",
       "</table>\n",
       "</div>"
      ],
      "text/plain": [
       "                                                    properties.valeur  \\\n",
       "properties.lib_zone                                                     \n",
       "Brest Métropole                                              3.819945   \n",
       "CA Golfe du Morbihan - Vannes                                3.723288   \n",
       "CA Lorient                                                   3.731507   \n",
       "CA Quimper Bretagne Occidentale                              3.713115   \n",
       "CA Saint-Brieuc Armor                                        3.660274   \n",
       "CA du Pays de Saint-Malo (Saint-Malo Agglomérat...           3.757576   \n",
       "Rennes Métropole                                             3.646409   \n",
       "\n",
       "                                                        longitude  \\\n",
       "properties.lib_zone                                                 \n",
       "Brest Métropole                                     147878.224207   \n",
       "CA Golfe du Morbihan - Vannes                       269961.110694   \n",
       "CA Lorient                                          229772.040436   \n",
       "CA Quimper Bretagne Occidentale                     172753.630567   \n",
       "CA Saint-Brieuc Armor                               269153.268299   \n",
       "CA du Pays de Saint-Malo (Saint-Malo Agglomérat...  338719.758103   \n",
       "Rennes Métropole                                    349555.007045   \n",
       "\n",
       "                                                        latitude  \\\n",
       "properties.lib_zone                                                \n",
       "Brest Métropole                                     6.837176e+06   \n",
       "CA Golfe du Morbihan - Vannes                       6.746308e+06   \n",
       "CA Lorient                                          6.768640e+06   \n",
       "CA Quimper Bretagne Occidentale                     6.795401e+06   \n",
       "CA Saint-Brieuc Armor                               6.832825e+06   \n",
       "CA du Pays de Saint-Malo (Saint-Malo Agglomérat...  6.844014e+06   \n",
       "Rennes Métropole                                    6.789093e+06   \n",
       "\n",
       "                                                    longitude_gps  \\\n",
       "properties.lib_zone                                                 \n",
       "Brest Métropole                                         -4.470520   \n",
       "CA Golfe du Morbihan - Vannes                           -2.736238   \n",
       "CA Lorient                                              -3.293846   \n",
       "CA Quimper Bretagne Occidentale                         -4.085219   \n",
       "CA Saint-Brieuc Armor                                   -2.832059   \n",
       "CA du Pays de Saint-Malo (Saint-Malo Agglomérat...      -1.902423   \n",
       "Rennes Métropole                                        -1.711339   \n",
       "\n",
       "                                                    latitude_gps  \n",
       "properties.lib_zone                                               \n",
       "Brest Métropole                                        48.399641  \n",
       "CA Golfe du Morbihan - Vannes                          47.676516  \n",
       "CA Lorient                                             47.849403  \n",
       "CA Quimper Bretagne Occidentale                        48.045952  \n",
       "CA Saint-Brieuc Armor                                  48.452434  \n",
       "CA du Pays de Saint-Malo (Saint-Malo Agglomérat...     48.595360  \n",
       "Rennes Métropole                                       48.108092  "
      ]
     },
     "execution_count": 15,
     "metadata": {},
     "output_type": "execute_result"
    }
   ],
   "source": [
    "data_coord"
   ]
  },
  {
   "cell_type": "markdown",
   "metadata": {},
   "source": [
    "### transformation des dates pour retirer les heures et avoir le format YYYY-MM-DD"
   ]
  },
  {
   "cell_type": "code",
   "execution_count": 8,
   "metadata": {},
   "outputs": [
    {
     "name": "stderr",
     "output_type": "stream",
     "text": [
      "<ipython-input-8-faadec0b27ae>:1: SettingWithCopyWarning: \n",
      "A value is trying to be set on a copy of a slice from a DataFrame.\n",
      "Try using .loc[row_indexer,col_indexer] = value instead\n",
      "\n",
      "See the caveats in the documentation: https://pandas.pydata.org/pandas-docs/stable/user_guide/indexing.html#returning-a-view-versus-a-copy\n",
      "  data['properties.date_ech'] = data['properties.date_ech'].apply(lambda x: x[:10])\n"
     ]
    }
   ],
   "source": [
    "data['properties.date_ech'] = data['properties.date_ech'].apply(lambda x: x[:10])\n"
   ]
  },
  {
   "cell_type": "markdown",
   "metadata": {},
   "source": [
    "### création d'un json avec la database nettoyée"
   ]
  },
  {
   "cell_type": "code",
   "execution_count": 33,
   "metadata": {},
   "outputs": [],
   "source": [
    "data_json = data.to_json(orient='index')\n"
   ]
  },
  {
   "cell_type": "code",
   "execution_count": 13,
   "metadata": {},
   "outputs": [],
   "source": [
    "data.to_json('outjson.json', orient='index')"
   ]
  },
  {
   "cell_type": "code",
   "execution_count": null,
   "metadata": {},
   "outputs": [],
   "source": []
  }
 ],
 "metadata": {
  "kernelspec": {
   "display_name": "Python 3",
   "language": "python",
   "name": "python3"
  },
  "language_info": {
   "codemirror_mode": {
    "name": "ipython",
    "version": 3
   },
   "file_extension": ".py",
   "mimetype": "text/x-python",
   "name": "python",
   "nbconvert_exporter": "python",
   "pygments_lexer": "ipython3",
   "version": "3.8.5"
  }
 },
 "nbformat": 4,
 "nbformat_minor": 4
}
